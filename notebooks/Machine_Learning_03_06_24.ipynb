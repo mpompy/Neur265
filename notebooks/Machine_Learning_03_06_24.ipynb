{
  "nbformat": 4,
  "nbformat_minor": 0,
  "metadata": {
    "colab": {
      "provenance": [],
      "include_colab_link": true
    },
    "kernelspec": {
      "name": "python3",
      "display_name": "Python 3"
    },
    "language_info": {
      "name": "python"
    }
  },
  "cells": [
    {
      "cell_type": "markdown",
      "metadata": {
        "id": "view-in-github",
        "colab_type": "text"
      },
      "source": [
        "<a href=\"https://colab.research.google.com/github/mpompy/Neur265/blob/main/notebooks/Machine_Learning_03_06_24.ipynb\" target=\"_parent\"><img src=\"https://colab.research.google.com/assets/colab-badge.svg\" alt=\"Open In Colab\"/></a>"
      ]
    },
    {
      "cell_type": "markdown",
      "source": [
        "#Introduction to Machine Learning\n",
        "\n",
        "This notebook will introduce you to a common machine learning problem: **classification**.\n",
        "\n",
        "##By the end of this notebook, you will be able to:\n",
        "\n",
        "- Train and test a simple linear classifier"
      ],
      "metadata": {
        "id": "vawcqVlRAFna"
      }
    },
    {
      "cell_type": "markdown",
      "source": [
        "##What is machine learning?\n",
        "\n",
        "<img src = 'https://drive.google.com/uc?id=1rtw01EuJ6XEyT7hFKwHXyuuJkNXmI4C7'>\n"
      ],
      "metadata": {
        "id": "gNivfWbKBrzD"
      }
    },
    {
      "cell_type": "markdown",
      "source": [
        "Consider that the goal of inferential statistics (a t-test, for example) is to arrive at some conclusion about a *dataset*. More specifically, in the case of a 1-sample t-test: How likely is it that the mean of a sample distribution is also in a population distribution? For this question, a t-test (our *program*) is a great tool for the job!\n",
        "\n",
        "One really nice thing about being an experimentalist is that you can (at least *attempt* to) control the conditions that give you your data - in my case, what task are mice running? Which neurons are expressing a virus? Which neurons are turned \"on\" or \"off\"? Which stage of training are mice on?\n",
        "\n",
        "In this way, I *know* my data really well! This is what allows me to make interpretations about what a t-test result means."
      ],
      "metadata": {
        "id": "qzAC_u6ZCX-F"
      }
    },
    {
      "cell_type": "markdown",
      "source": [
        "What if we *don't* know our data really well? What if we're able to collect some data, but don't have the full picture of what the data represent?\n",
        "\n",
        "<img src = 'https://drive.google.com/uc?id=1eQeiL6-o7YQXCLpJTQJQeAJFoD3_mZnG'>\n",
        "\n"
      ],
      "metadata": {
        "id": "pXC9N-cWEcq4"
      }
    },
    {
      "cell_type": "markdown",
      "source": [
        "In this case, maybe we can create an algorithm that can guess for us! This problem is at the heart of **classification**, a really common instance of **supervised machine learning**."
      ],
      "metadata": {
        "id": "wPbmixKQFI_4"
      }
    },
    {
      "cell_type": "markdown",
      "source": [
        "We're going to create a simple **binary**, or **linear** classifier."
      ],
      "metadata": {
        "id": "sU63XEceFzGJ"
      }
    },
    {
      "cell_type": "markdown",
      "source": [
        "<img src = 'https://drive.google.com/uc?id=1oqq0U8iJHYVs6bG1nl-aaYHpseAdpYOm'>\n",
        "\n",
        "Linear classifiers try to assign a data point to an outcome - the outcome must be binary (i.e., the data point is either *true* or *false*)."
      ],
      "metadata": {
        "id": "Ql1OFTgIGk2f"
      }
    },
    {
      "cell_type": "markdown",
      "source": [
        "Here, we're going to train an algorithm to do something fairly simple - predict whether a given point in space falls above (*true*) or below (*false*) a straight line."
      ],
      "metadata": {
        "id": "cz67DYdkHTOQ"
      }
    },
    {
      "cell_type": "code",
      "execution_count": 1,
      "metadata": {
        "id": "Bnt4nMzY3pqA"
      },
      "outputs": [],
      "source": [
        "#Import relevant modules and adjust figure size\n",
        "\n",
        "from pylab import *\n",
        "%matplotlib inline\n",
        "rcParams['figure.figsize']=(12,3)"
      ]
    },
    {
      "cell_type": "markdown",
      "source": [
        "##Part 1: A simple perceptron model\n",
        "\n",
        "Let’s examine a simple perceptron that accepts inputs, processes those inputs, and returns an output:"
      ],
      "metadata": {
        "id": "XSjRh3L7KiwE"
      }
    },
    {
      "cell_type": "code",
      "source": [
        "def my_perceptron(input1, input2, w1, w2, theta):\n",
        "    # Define the activity of the perceptron, x.\n",
        "    x = input1*w1 + input2*w2 + theta\n",
        "\n",
        "    # Apply a binary threshold,\n",
        "    if x > 0:\n",
        "        return 1\n",
        "    else:\n",
        "        return 0"
      ],
      "metadata": {
        "id": "do9SA0ld321A"
      },
      "execution_count": 2,
      "outputs": []
    },
    {
      "cell_type": "markdown",
      "source": [
        "Here, the inputs are some bits of data (the data we're trying to classify), w1 and w2 are **weights** (it might be useful to think of these as how we let the algorithm know how *important* each piece of data is), and a constant (theta). The decision boundary is set to \"zero\" - any output greater than zero is classified as *true*, and any output less than zero is classified as *false*."
      ],
      "metadata": {
        "id": "-6-79r2-Qtgb"
      }
    },
    {
      "cell_type": "markdown",
      "source": [
        "><b>Task:</b> Apply this function to different sets of inputs. Consider,\n",
        "\n",
        "  `input1 = 1, input2 = 0, w1 = 0.5, w2 = -0.5, theta = 0`\n",
        "\n",
        "  and\n",
        "\n",
        "  `input1 = 1, input2 = 0, w1 = 0.5, w2 = -0.5, theta = -1`\n",
        "\n",
        "  What do you find?\n",
        "\n"
      ],
      "metadata": {
        "id": "tpXpEWuzSK8H"
      }
    },
    {
      "cell_type": "code",
      "source": [
        "#Run your function here!\n",
        "\n",
        "my_perceptron(1,0,0.5,-0.5,0)"
      ],
      "metadata": {
        "id": "E73qTgurSaCx",
        "outputId": "83b19d5a-11e5-4c25-bd82-bca513f597be",
        "colab": {
          "base_uri": "https://localhost:8080/"
        }
      },
      "execution_count": 8,
      "outputs": [
        {
          "output_type": "execute_result",
          "data": {
            "text/plain": [
              "1"
            ]
          },
          "metadata": {},
          "execution_count": 8
        }
      ]
    },
    {
      "cell_type": "code",
      "source": [
        "my_perceptron(1,0,0.5,-0.5,-1)"
      ],
      "metadata": {
        "id": "-repin1sC7Zk",
        "outputId": "30f86a06-edb6-4c2b-8d0f-b1270ef19a01",
        "colab": {
          "base_uri": "https://localhost:8080/"
        }
      },
      "execution_count": 9,
      "outputs": [
        {
          "output_type": "execute_result",
          "data": {
            "text/plain": [
              "0"
            ]
          },
          "metadata": {},
          "execution_count": 9
        }
      ]
    },
    {
      "cell_type": "markdown",
      "source": [
        "#Part 2. Build a perceptron classifier.\n",
        "\n",
        "We’d like to create a method to train a perceptron to classify a point (x,y) as above or below a line. Let’s implement this training procedure.\n",
        "\n"
      ],
      "metadata": {
        "id": "2P4EaHA5Te6n"
      }
    },
    {
      "cell_type": "markdown",
      "source": [
        "##Step 1. Provide perceptron with inputs and known answer.\n",
        "\n",
        "First, let’s make a function that computes a line, and determines if a given y value is above or below the line. We’ll use this function to return the correct (“known”) answer. Having known answers is important for training the perceptron. We’ll use the known answers to tell the when it’s right or wrong (i.e., when the perceptron makes an error).\n",
        "\n",
        "Let’s define the function (`known_answer`), and give it four inputs:\n",
        "\n",
        "`slope`\n",
        "\n",
        "`intercept`\n",
        "\n",
        "`x`\n",
        "\n",
        "`y`\n",
        "\n",
        "where the (`x,y`) value is a point we choose on the plane. The function should return one output:\n",
        "\n",
        "`desired_output`\n",
        "\n",
        "where,\n",
        "\n",
        "`desired_output = 1`, if the y value (the last input) is above the line, and\n",
        "\n",
        "`desired_putput = 0`, if the y value (the last input) is below the line.\n",
        "\n"
      ],
      "metadata": {
        "id": "2_8kq4suUL4d"
      }
    },
    {
      "cell_type": "code",
      "source": [
        "def known_answer(slope, intercept, x, y):\n",
        "\n",
        "  yline = slope*x + intercept  # Compute y-value on the line.\n",
        "  if y > yline:                # If the input y value is above the line,\n",
        "      return 1                 # ... indicate this with output = 1;\n",
        "  else:                        # Otherwise, the input y is below the line,\n",
        "      return 0"
      ],
      "metadata": {
        "id": "-RfZmPvz4GLR"
      },
      "execution_count": 19,
      "outputs": []
    },
    {
      "cell_type": "markdown",
      "source": [
        "Consider the (`x,y`) point,\n",
        "\n",
        "`x,y = 0.7,3`\n",
        "\n",
        "and the line with slope and intercept,\n",
        "\n",
        "`slope = 2 intercept = 1`\n",
        "\n",
        "Is the (`x,y`) point above or below the line?\n",
        "\n",
        "To answer this, let’s ask our function!"
      ],
      "metadata": {
        "id": "1NHraP0_VO3I"
      }
    },
    {
      "cell_type": "code",
      "source": [
        "x,y = 0.7,3\n",
        "slope = 2\n",
        "intercept = 1\n",
        "correct_answer = known_answer(slope, intercept, x, y)\n",
        "print(correct_answer)\n"
      ],
      "metadata": {
        "id": "F0tdtM0U4NnT",
        "outputId": "09cd5be7-3c70-466a-b552-e002750c5f49",
        "colab": {
          "base_uri": "https://localhost:8080/"
        }
      },
      "execution_count": 11,
      "outputs": [
        {
          "output_type": "stream",
          "name": "stdout",
          "text": [
            "1\n"
          ]
        }
      ]
    },
    {
      "cell_type": "code",
      "source": [
        "# Plot it to know that it's true!\n",
        "\n",
        "x_range = linspace(-2,2,100)\n",
        "plt.plot(x_range, slope*x_range+intercept,color = \"black\")\n",
        "plt.scatter(x,y,color = \"blue\")"
      ],
      "metadata": {
        "id": "my77_tgc6rsC",
        "outputId": "8b5ab6b1-9209-45bb-a0b0-1293022cb2cb",
        "colab": {
          "base_uri": "https://localhost:8080/",
          "height": 258
        }
      },
      "execution_count": 12,
      "outputs": [
        {
          "output_type": "execute_result",
          "data": {
            "text/plain": [
              "<matplotlib.collections.PathCollection at 0x795c68602050>"
            ]
          },
          "metadata": {},
          "execution_count": 12
        },
        {
          "output_type": "display_data",
          "data": {
            "text/plain": [
              "<Figure size 1200x300 with 1 Axes>"
            ],
            "image/png": "[encoded data removed]"
          },
          "metadata": {}
        }
      ]
    },
    {
      "cell_type": "markdown",
      "source": [
        "##Step 2: Ask perceptron to guess an answer.\n",
        "\n",
        "Our next step is to compare our desired output (computed in Step 1) to the output guessed by the perceptron. To do so, we’ll need to compute the feedforward solution for the perceptron (i.e., given the inputs and bias, determine the perceptron output). Let’s do so,"
      ],
      "metadata": {
        "id": "QDjacHuQW0vf"
      }
    },
    {
      "cell_type": "code",
      "source": [
        "def feedforward(x, y, wx, wy, wb):\n",
        "\n",
        "  # Fix the bias.\n",
        "  bias = 1\n",
        "\n",
        "  # Define our weighted point in space.\n",
        "  point = x*wx + y*wy + wb*bias\n",
        "\n",
        "  # Apply the binary threshold,\n",
        "  if point > 0:\n",
        "      return 1\n",
        "  else:\n",
        "      return 0"
      ],
      "metadata": {
        "id": "n_Jo82Ex7k-s"
      },
      "execution_count": 13,
      "outputs": []
    },
    {
      "cell_type": "markdown",
      "source": [
        "This function takes five inputs:\n",
        "\n",
        "`x` = the x coordinate of the point we choose in the plane.\n",
        "\n",
        "`y` = the y coordinate of the point we choose in the plane.\n",
        "\n",
        "`wx` = the weight (relative importance) of x input.\n",
        "\n",
        "`wy` = the weight of y input.\n",
        "\n",
        "`wb` = the weight of the bias (always = 1).\n",
        "\n",
        "And this function returns one output:\n",
        "\n",
        "the perceptron’s guess: Is the point above (1) or below (0) the line?"
      ],
      "metadata": {
        "id": "UbCJsDhcXIMj"
      }
    },
    {
      "cell_type": "markdown",
      "source": [
        "Again consider the (x,y) point,\n",
        "\n",
        "x,y = 0.7,3\n",
        "\n",
        "and set initial values for the perceptron weights. Let’s just set these all to 0.5; our goal in the rest of this notebook will be to train the perceptron by adjusting these weights. But for now,\n",
        "\n",
        "wx,wy,wb = 0.5\n",
        "\n",
        "Then, ask the perceptron for its guess: Is the point above or below the line?"
      ],
      "metadata": {
        "id": "jaSZV7U7XW-H"
      }
    },
    {
      "cell_type": "code",
      "source": [
        "x,y = 0.7, 3\n",
        "wx,wy,wb = 3 * [0.5]\n",
        "perceptron_guess = feedforward(x, y, wx, wy, wb)\n",
        "print(perceptron_guess)"
      ],
      "metadata": {
        "id": "Hsjvp3dtXhka",
        "outputId": "9cc07fe0-1877-4996-f190-4b10d43574b5",
        "colab": {
          "base_uri": "https://localhost:8080/"
        }
      },
      "execution_count": 14,
      "outputs": [
        {
          "output_type": "stream",
          "name": "stdout",
          "text": [
            "1\n"
          ]
        }
      ]
    },
    {
      "cell_type": "markdown",
      "source": [
        "## Step 3: Compute the error.\n",
        "\n",
        "We’ve now answered the question “Is the (x,y) point above the line?” in two ways:\n",
        "\n",
        "the known answer, and\n",
        "\n",
        "the perceptron’s guess.\n",
        "\n",
        "Let’s compute the error as the difference between these two answers:"
      ],
      "metadata": {
        "id": "DDsPKeUZYCsi"
      }
    },
    {
      "cell_type": "code",
      "source": [
        "error = correct_answer - perceptron_guess\n",
        "print(error)"
      ],
      "metadata": {
        "id": "Q6JvY0OyYG3v",
        "outputId": "2c3c76b7-e5ab-47c1-c8dc-a05cbfd11f39",
        "colab": {
          "base_uri": "https://localhost:8080/"
        }
      },
      "execution_count": 15,
      "outputs": [
        {
          "output_type": "stream",
          "name": "stdout",
          "text": [
            "0\n"
          ]
        }
      ]
    },
    {
      "cell_type": "markdown",
      "source": [
        "## Step 4: Adjust all weights according to the error.\n",
        "\n",
        "To update the weights, we’ll use the expression,\n",
        "\n",
        "`new weight = weight + error * input * learning constant`\n",
        "\n",
        "We need to compute this for each weight (`wx, wy, wb`).\n",
        "\n",
        "First, let’s set the learning constant"
      ],
      "metadata": {
        "id": "JJTjGC6uYSpp"
      }
    },
    {
      "cell_type": "code",
      "source": [
        "learning_constant = 0.01"
      ],
      "metadata": {
        "id": "HZaIScRMYeik"
      },
      "execution_count": 16,
      "outputs": []
    },
    {
      "cell_type": "markdown",
      "source": [
        "Then, we can compute the new weights"
      ],
      "metadata": {
        "id": "JRtpovD0YgjP"
      }
    },
    {
      "cell_type": "code",
      "source": [
        "wx = wx + error*x   *learning_constant\n",
        "wy = wy + error*y   *learning_constant\n",
        "wb = wb + error*1   *learning_constant"
      ],
      "metadata": {
        "id": "XvGIhRA5Yg-F"
      },
      "execution_count": 17,
      "outputs": []
    },
    {
      "cell_type": "code",
      "source": [],
      "metadata": {
        "id": "Oz2FZGIcNTMq"
      },
      "execution_count": null,
      "outputs": []
    },
    {
      "cell_type": "markdown",
      "source": [
        "Notice that, in the update to `wb` we use the fact that the bias equals 1."
      ],
      "metadata": {
        "id": "EN2JM30xYi2Y"
      }
    },
    {
      "cell_type": "markdown",
      "source": [
        "## Step 5: Return to Step 1 and repeat …\n",
        "\n",
        "Let's train our perceptron and see if it gets better over time! We could try to do this by hand, for example by repeating the cells above. To do so, we’d choose a new point in the (`x,y`) plane, determine whether it’s above the line 2x+1, ask the perceptron to guess whether it’s above the line, then use the error to update the perceptron’s weights.\n",
        "\n",
        "But we want to evaluate this procedure 2000 times. Doing so by hand would be a total pain, and highly error prone. Instead, let’s ask the computer to do the boring work of multiple repetitions. To do so, let’s collect the code above, and examine 2000 (x,y) points chosen randomly in the plane."
      ],
      "metadata": {
        "id": "mio83DrCY6Y3"
      }
    },
    {
      "cell_type": "code",
      "source": [
        "slope     = 2;                      # Define the line with slope,\n",
        "intercept = 1;                      # ... and intercept.\n",
        "\n",
        "wx,wy,wb = 3*[0.5];                 # Choose initial values for the perceptron's weights\n",
        "\n",
        "learning_constant = 0.01;           # And, set the learning constant.\n",
        "\n",
        "estimated_slope = zeros(2000)       # Variables to hold the perceptron estimates.\n",
        "estimated_intercept = zeros(2000)\n",
        "all_errors = zeros(2000)"
      ],
      "metadata": {
        "id": "kbhCa9WqZPuA"
      },
      "execution_count": 43,
      "outputs": []
    },
    {
      "cell_type": "markdown",
      "source": [
        "><b>Task:</b> Create a <code>for</code> loop that does the following 2000 times:\n",
        "\n",
        "1. Chooses a new `x` and `y` value at random (use <code>x = randn(1)</code> and <code>y = randn(1)</code> for this).\n",
        "\n",
        "2. Calls your <code>known_answer</code> function and outputs the <code>correct_answer</code> variable based on your randomly chosen <code>x</code> and <code>y</code> coordinates.\n",
        "\n",
        "3. Calls your <code>feedforward</code> function and outputs the perceptron's guess based on your randomly chosen <code>x</code> and <code>y</code> coordinates.\n",
        "\n",
        "4. Calculates the <code>error</code> (<code>correct_answer - perceptron_guess</code>) and stores this value in a new column of a list variable called <code>all_errors</code>.\n",
        "\n",
        "5. Adjusts weights according to the error.\n",
        "\n",
        "6. Asks the perceptron to make a line based on its guess. To do this, define the following terms in each iteration of the loop: <code>estimated_slope[i] = -wx/wy</code>, and <code>estimated_intercept[i] = -wb/wy</code>, where <code>i</code> is your looping variable.\n",
        "\n"
      ],
      "metadata": {
        "id": "eH0ethveZQh1"
      }
    },
    {
      "cell_type": "code",
      "source": [
        "#Your for loop here!\n",
        "\n",
        "for i in range(2000):\n",
        "  x = randn(1)\n",
        "  y = randn(1)\n",
        "\n",
        "\n",
        "  correct_answer=known_answer(slope, intercept,x, y)\n",
        "  perceptron_guess=feedforward(x, y, wx, wy, wb)\n",
        "  error=correct_answer-perceptron_guess\n",
        "\n",
        "  all_errors[i]=error\n",
        "\n",
        "  wx = wx + error*x   *learning_constant\n",
        "  wy = wy + error*y   *learning_constant\n",
        "  wb = wb + error*1   *learning_constant\n",
        "\n",
        "  estimated_slope[i] = -wx/wy\n",
        "  estimated_intercept[i] = -wb/wy\n",
        "\n",
        "\n"
      ],
      "metadata": {
        "id": "soZk2qeLbd6W",
        "outputId": "9a28a083-9395-4391-cf3e-83700aaf04d7",
        "colab": {
          "base_uri": "https://localhost:8080/"
        }
      },
      "execution_count": 44,
      "outputs": [
        {
          "output_type": "stream",
          "name": "stderr",
          "text": [
            "<ipython-input-44-eac687dd41c6>:18: DeprecationWarning: Conversion of an array with ndim > 0 to a scalar is deprecated, and will error in future. Ensure you extract a single element from your array before performing this operation. (Deprecated NumPy 1.25.)\n",
            "  estimated_slope[i] = -wx/wy\n",
            "<ipython-input-44-eac687dd41c6>:19: DeprecationWarning: Conversion of an array with ndim > 0 to a scalar is deprecated, and will error in future. Ensure you extract a single element from your array before performing this operation. (Deprecated NumPy 1.25.)\n",
            "  estimated_intercept[i] = -wb/wy\n"
          ]
        }
      ]
    },
    {
      "cell_type": "markdown",
      "source": [
        "When your done, check how well your perceptron did!"
      ],
      "metadata": {
        "id": "MLrnLa1EbfpP"
      }
    },
    {
      "cell_type": "code",
      "source": [
        "x_range = linspace(-2,2,100);                  # For a range of x-values,\n",
        "fig, ax = subplots()\n",
        "ax.plot(x_range, slope*x_range+intercept, 'k') # ... plot the true line,\n",
        "\n",
        "for k in range(1,2000,100):                    # ... and plot some intermediate perceptron guesses\n",
        "    ax.plot(x_range, estimated_slope[k]*x_range+estimated_intercept[k], 'r')\n",
        "\n",
        "ax.plot(x_range, estimated_slope[-1]*x_range+estimated_intercept[-1], 'b')\n",
        "xlabel('x')\n",
        "ylabel('y')\n",
        "title('Known answer (black), Perceptron intermediate guesses (red), Perceptron final guess (blue)');"
      ],
      "metadata": {
        "id": "BxT_nGVice1i",
        "outputId": "387a0244-606f-4f3c-8d6d-b05865742f4e",
        "colab": {
          "base_uri": "https://localhost:8080/",
          "height": 271
        }
      },
      "execution_count": 45,
      "outputs": [
        {
          "output_type": "display_data",
          "data": {
            "text/plain": [
              "<Figure size 1200x300 with 1 Axes>"
            ],
            "image/png": "[encoded data removed]"
          },
          "metadata": {}
        }
      ]
    }
  ]
}