{
  "nbformat": 4,
  "nbformat_minor": 0,
  "metadata": {
    "colab": {
      "provenance": [],
      "include_colab_link": true
    },
    "kernelspec": {
      "name": "python3",
      "display_name": "Python 3"
    },
    "language_info": {
      "name": "python"
    }
  },
  "cells": [
    {
      "cell_type": "markdown",
      "metadata": {
        "id": "view-in-github",
        "colab_type": "text"
      },
      "source": [
        "<a href=\"https://colab.research.google.com/github/mpompy/Neur265/blob/main/homework/coding_homework_1.ipynb\" target=\"_parent\"><img src=\"https://colab.research.google.com/assets/colab-badge.svg\" alt=\"Open In Colab\"/></a>"
      ]
    },
    {
      "cell_type": "markdown",
      "source": [
        "# Coding Homework #1\n",
        "\n",
        "**Instructions** (Note: it is very important you follow these instructions in order!)\n",
        "\n",
        "1. Run the first *Code Cell* below.\n",
        "\n",
        "2. Make a *Markdown Cell* that contains the following information:\n",
        "  * Your name (small header)\n",
        "  * The name of this class (italicized)\n",
        "  * The date (bolded)\n",
        "\n",
        "3. **Important!**: For each *Code Cell* that you create, make at least one line of code with a `#` in front of it that describes what your code does.\n",
        "\n",
        "4. Make a *Code Cell* that turns `v_rest_sst.csv` into a `Pandas DataFrame` called `pandas_data1`, and `v_rest_pvalb.csv` into a `Pandas DataFrame` called `pandas_data2`. Recall that we covered how to import `.csv` files as `Pandas DataFrames` in our in-class coding activity on January 31st.\n",
        "\n",
        "5. Make a *Code Cell* that converts `pandas_data1` into a `list` variable called `data1`, and converts `pandas_data2` into a `list` variable called `data2`. The following syntax is an example of how to do this:\n",
        "\n",
        "\n",
        "```\n",
        "data1 = pandas_data1.values.tolist()\n",
        "```\n",
        "\n",
        "6. When you convert a `Pandas DataFrame` into a `list`, it brackets each individual element - we don't want that! To get around this issue, make a *Code Cell* that flattens `data1` and `data2` using the `numpy.squeeze()` function. Your first *Code Cell* imported the `NumPy` module as `np`, so we can use the following code to flatten `data1`:\n",
        "\n",
        "\n",
        "```\n",
        "data1 = np.squeeze(data1)\n",
        "```\n",
        "&nbsp;&nbsp;&nbsp;&nbsp;&nbsp;&nbsp;&nbsp;&nbsp;&nbsp;&nbsp;Repeat this for `data2`.\n",
        "\n",
        "7. Make a *Code Cell* that prints the length of `data1`.\n",
        "\n",
        "8. Make a *Code Cell* that prints the 3rd, 4th, 5th, and 6th elements of `data2`.\n",
        "\n",
        "9. Make a *Code Cell* that prints the second-to-last and last elements of `data1` (use negative indexing).\n",
        "\n",
        "10. Make a *Code Cell* that prints the `type` of `data2` by using the `type` function.\n",
        "\n",
        "11. The first *Code Cell* you ran imports a module called `matplotlib`. In a new *Code Cell*, use `matplotlib` to make a histogram of `data1`. You can use the syntax `plt.hist()` to do this (remember that the variable you are applying the function to goes inside of the parentheses).\n",
        "\n",
        "12. In a new *Code Cell*, re-make your histogram and use the `plt.xlabel()` and `plt.ylabel()` functions to label your axes.\n",
        "\n",
        "13. In a new *Code Cell*, follow the instructions in steps 11 and 12 to make another histogram with axis labels for `data2`.\n",
        "\n",
        "14. In a new *Markdown Cell*, write a brief description of any differences that you observe between your two histograms. Does one group of cells seem to have a higher/lower resting membrane potential than the other group of cells?\n",
        "\n",
        "15. In a new *Code Cell*, create a new variable called `data3`. Let `data3` be a list containing both `data1` and `data2`.\n",
        "\n",
        "16. Make a *Code Cell* that prints the last element of `data2`. You must index `data3` to do this.\n",
        "\n",
        "17. Save a copy of this notebook to your GitHub repo with the title \"coding_homework_1.pynb\"."
      ],
      "metadata": {
        "id": "R8xCV2iP1KZ_"
      }
    },
    {
      "cell_type": "code",
      "source": [
        "# Import matplotlib\n",
        "\n",
        "from matplotlib import pyplot as plt\n",
        "\n",
        "import pandas as pd\n",
        "\n",
        "import numpy as np"
      ],
      "metadata": {
        "id": "48IPWJIt59-Y"
      },
      "execution_count": 55,
      "outputs": []
    },
    {
      "cell_type": "markdown",
      "source": [
        "#####Madison Pompy\n",
        "\n",
        "*Intro to Neural Data Analysis*\n",
        "\n",
        "**2/9/2024**\n"
      ],
      "metadata": {
        "id": "BClOa4wlv57i"
      }
    },
    {
      "cell_type": "code",
      "source": [
        "#Code Cell that turns v_rest_sst.csv into a Pandas DataFrame called pandas_data1, and v_rest_pvalb.csv into a Pandas DataFrame called pandas_data2.\n",
        "\n",
        "url = 'https://raw.githubusercontent.com/mpompy/Neur265/main/v_rest_sst.csv'\n",
        "\n",
        "pandas_data1=pd.read_csv(url)\n",
        "\n",
        "url2='https://raw.githubusercontent.com/mpompy/Neur265/main/v_rest_pvalb.csv'\n",
        "pandas_data2=pd.read_csv(url2)"
      ],
      "metadata": {
        "id": "ri5XBYE64oMq"
      },
      "execution_count": 56,
      "outputs": []
    },
    {
      "cell_type": "code",
      "source": [
        "#Code Cell that converts pandas_data1 into a list variable called data1, and converts pandas_data2 into a list variable called data2\n",
        "\n",
        "data1 = pandas_data1.values.tolist()\n",
        "data2=pandas_data2.values.tolist()\n"
      ],
      "metadata": {
        "id": "VaiPZhvFNjiR"
      },
      "execution_count": 57,
      "outputs": []
    },
    {
      "cell_type": "code",
      "source": [
        "# a Code Cell that flattens data1 and data2 using the numpy.squeeze() function.\n",
        "\n",
        "data1 = np.squeeze(data1)\n",
        "data2 = np.squeeze(data2)"
      ],
      "metadata": {
        "id": "DcvcnnkWO2mN"
      },
      "execution_count": 58,
      "outputs": []
    },
    {
      "cell_type": "code",
      "source": [
        "# Code Cell that prints the length of data1\n",
        "\n",
        "len(data1)"
      ],
      "metadata": {
        "id": "1w5KYwAXRS-P",
        "outputId": "49394c6a-6d65-4bbf-da42-7761de59d1a3",
        "colab": {
          "base_uri": "https://localhost:8080/"
        }
      },
      "execution_count": 59,
      "outputs": [
        {
          "output_type": "execute_result",
          "data": {
            "text/plain": [
              "499"
            ]
          },
          "metadata": {},
          "execution_count": 59
        }
      ]
    },
    {
      "cell_type": "code",
      "source": [
        "#Code Cell that prints the 3rd, 4th, 5th, and 6th elements of data2\n",
        "\n",
        "data2[1:5]"
      ],
      "metadata": {
        "id": "jD4WXfc2R3SD",
        "outputId": "32305aa1-f4bc-4052-96ff-4c1c4a09b1bf",
        "colab": {
          "base_uri": "https://localhost:8080/"
        }
      },
      "execution_count": 60,
      "outputs": [
        {
          "output_type": "execute_result",
          "data": {
            "text/plain": [
              "array([-75.71939359, -72.36807022, -63.09300825, -75.5469301 ])"
            ]
          },
          "metadata": {},
          "execution_count": 60
        }
      ]
    },
    {
      "cell_type": "code",
      "source": [
        "#Code Cell that prints the second-to-last and last elements of data1 (use negative indexing).\n",
        "\n",
        "data1[-2:]\n",
        "\n"
      ],
      "metadata": {
        "id": "n4Sf1O21Tcf9",
        "outputId": "f24f03ba-cc53-431a-9884-ac8e36702b4d",
        "colab": {
          "base_uri": "https://localhost:8080/"
        }
      },
      "execution_count": 61,
      "outputs": [
        {
          "output_type": "execute_result",
          "data": {
            "text/plain": [
              "array([-65.59535842, -75.10678711])"
            ]
          },
          "metadata": {},
          "execution_count": 61
        }
      ]
    },
    {
      "cell_type": "code",
      "source": [
        "#Code Cell that prints the type of data2 by using the type function\n",
        "\n",
        "type(data2)"
      ],
      "metadata": {
        "id": "NrvP3sXbVwUR",
        "outputId": "9d09d05b-435a-4ad2-8e59-0181df5371a0",
        "colab": {
          "base_uri": "https://localhost:8080/"
        }
      },
      "execution_count": 62,
      "outputs": [
        {
          "output_type": "execute_result",
          "data": {
            "text/plain": [
              "numpy.ndarray"
            ]
          },
          "metadata": {},
          "execution_count": 62
        }
      ]
    },
    {
      "cell_type": "code",
      "source": [
        "# Code Cell that uses matplotlib to make a histogram of data1\n",
        "\n",
        "plt.hist(data1)"
      ],
      "metadata": {
        "id": "p4NGf_rwZBZi",
        "outputId": "5490e322-d579-4d00-a175-afb09fc6b118",
        "colab": {
          "base_uri": "https://localhost:8080/",
          "height": 517
        }
      },
      "execution_count": 63,
      "outputs": [
        {
          "output_type": "execute_result",
          "data": {
            "text/plain": [
              "(array([  3.,   4.,  23.,  77., 125., 107.,  90.,  42.,  21.,   7.]),\n",
              " array([-88.07835484, -84.19758717, -80.31681949, -76.43605182,\n",
              "        -72.55528415, -68.67451648, -64.7937488 , -60.91298113,\n",
              "        -57.03221346, -53.15144578, -49.27067811]),\n",
              " <BarContainer object of 10 artists>)"
            ]
          },
          "metadata": {},
          "execution_count": 63
        },
        {
          "output_type": "display_data",
          "data": {
            "text/plain": [
              "<Figure size 640x480 with 1 Axes>"
            ],
            "image/png": "[encoded data removed]"
          },
          "metadata": {}
        }
      ]
    },
    {
      "cell_type": "code",
      "source": [
        "# Code Cell, remade  histogram using the plt.xlabel() and plt.ylabel() functions to label your axes.\n",
        "\n",
        "plt.hist(data1)\n",
        "\n",
        "plt.xlabel('resting membrane potential')\n",
        "plt.ylabel('frequency')"
      ],
      "metadata": {
        "id": "EUkG4s5Uam5M",
        "outputId": "b6db8b2a-94f5-4c1a-ca56-4c022e0b1ecc",
        "colab": {
          "base_uri": "https://localhost:8080/",
          "height": 466
        }
      },
      "execution_count": 64,
      "outputs": [
        {
          "output_type": "execute_result",
          "data": {
            "text/plain": [
              "Text(0, 0.5, 'frequency')"
            ]
          },
          "metadata": {},
          "execution_count": 64
        },
        {
          "output_type": "display_data",
          "data": {
            "text/plain": [
              "<Figure size 640x480 with 1 Axes>"
            ],
            "image/png": "[encoded data removed]"
          },
          "metadata": {}
        }
      ]
    },
    {
      "cell_type": "code",
      "source": [
        " #Code Cell,to make another histogram with axis labels for data2.\n",
        "\n",
        " plt.hist(data2)\n",
        "\n",
        "plt.xlabel('resting membrane potential')\n",
        "plt.ylabel('frequency')"
      ],
      "metadata": {
        "id": "9HiyBNJsc97e",
        "outputId": "4a969037-02ce-4b5e-d84e-90f761b0b902",
        "colab": {
          "base_uri": "https://localhost:8080/",
          "height": 466
        }
      },
      "execution_count": 65,
      "outputs": [
        {
          "output_type": "execute_result",
          "data": {
            "text/plain": [
              "Text(0, 0.5, 'frequency')"
            ]
          },
          "metadata": {},
          "execution_count": 65
        },
        {
          "output_type": "display_data",
          "data": {
            "text/plain": [
              "<Figure size 640x480 with 1 Axes>"
            ],
            "image/png": "[encoded data removed]"
          },
          "metadata": {}
        }
      ]
    },
    {
      "cell_type": "markdown",
      "source": [
        "*Write any differences that you observe between your two histograms. Does one group of cells seem to have a higher/lower resting membrane potential than the other group of cells?*\n",
        "\n",
        "- The two histograms look very different. They look almost like mirror opposites.The group of cells in the data 1 histogram seem to have seem to have higher (less negative) resting membrane potentials than the group of cells in the data 2 histogram."
      ],
      "metadata": {
        "id": "ACWUjoF0hi2Y"
      }
    },
    {
      "cell_type": "code",
      "source": [
        "#Code Cell, with a new variable called data3. Let data3 be a list containing both data1 and data2.\n",
        "\n",
        "data3 = [data1,data2]\n",
        "\n",
        "type(data3)"
      ],
      "metadata": {
        "id": "IsFghhUXiW5J",
        "outputId": "bc212045-32bf-49ae-9d5b-ed6c2d5897b5",
        "colab": {
          "base_uri": "https://localhost:8080/"
        }
      },
      "execution_count": 70,
      "outputs": [
        {
          "output_type": "execute_result",
          "data": {
            "text/plain": [
              "list"
            ]
          },
          "metadata": {},
          "execution_count": 70
        }
      ]
    },
    {
      "cell_type": "code",
      "source": [
        "#Code Cell that prints the last element of data2. You must index data3 to do this.\n",
        "\n",
        "data3[1][-1]\n",
        "\n"
      ],
      "metadata": {
        "id": "QtmXMN60iu5X",
        "outputId": "6de75d0d-19e2-4a38-a74c-e31182b4ced7",
        "colab": {
          "base_uri": "https://localhost:8080/"
        }
      },
      "execution_count": 74,
      "outputs": [
        {
          "output_type": "execute_result",
          "data": {
            "text/plain": [
              "-54.08427915"
            ]
          },
          "metadata": {},
          "execution_count": 74
        }
      ]
    }
  ]
}